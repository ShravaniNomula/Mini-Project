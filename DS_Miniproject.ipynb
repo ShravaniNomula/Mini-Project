{
  "nbformat": 4,
  "nbformat_minor": 0,
  "metadata": {
    "colab": {
      "name": "DS Miniproject.ipynb",
      "provenance": [],
      "collapsed_sections": [],
      "authorship_tag": "ABX9TyOYr/BpP9mL5khpItoYnMFE",
      "include_colab_link": true
    },
    "kernelspec": {
      "name": "python3",
      "display_name": "Python 3"
    },
    "language_info": {
      "name": "python"
    }
  },
  "cells": [
    {
      "cell_type": "markdown",
      "metadata": {
        "id": "view-in-github",
        "colab_type": "text"
      },
      "source": [
        "<a href=\"https://colab.research.google.com/github/ShravaniNomula/Mini-Project/blob/main/DS_Miniproject.ipynb\" target=\"_parent\"><img src=\"https://colab.research.google.com/assets/colab-badge.svg\" alt=\"Open In Colab\"/></a>"
      ]
    },
    {
      "cell_type": "code",
      "metadata": {
        "id": "B_5hmMBNfiBs"
      },
      "source": [
        "import os\n",
        "import numpy as np\n",
        "import pandas as pd\n",
        "import matplotlib.pyplot as plt\n",
        "from skimage.io import imread\n",
        "from skimage.transform import resize\n",
        "\n",
        "datadir='/content/drive/MyDrive/Mini Project/Images'\n",
        "\n",
        "categories=['Cartoon','Real']\n",
        "target=[]\n",
        "flat_data=[]\n",
        "\n",
        " \n",
        "for i in categories:\n",
        " path=os.path.join(datadir,i)\n",
        " #print(path)\n",
        " for img in os.listdir(path):\n",
        "  print(img)\n",
        "  img_array=imread(os.path.join(path,img))\n",
        "\n",
        "  img_resize=resize(img_array,(200,200,3))\n",
        "  flat_data.append(np.ndarray.flatten(img_resize))\n",
        "  target.append(i)\n",
        "  plt.imshow(img_resize)\n",
        "  plt.show()\n",
        "\n",
        "flat_data=np.array(flat_data)\n",
        "target=np.array(target)"
      ],
      "execution_count": null,
      "outputs": []
    },
    {
      "cell_type": "code",
      "metadata": {
        "id": "Vy9rjRcFfn7V"
      },
      "source": [
        "df=pd.DataFrame(flat_data)\n",
        "df['Target']=target\n",
        "df"
      ],
      "execution_count": null,
      "outputs": []
    },
    {
      "cell_type": "code",
      "metadata": {
        "id": "KRVegEtnf2G1"
      },
      "source": [
        "from sklearn.model_selection import train_test_split\n",
        "x_train,x_test,y_train,y_test=train_test_split(flat_data,target,random_state=0)\n"
      ],
      "execution_count": null,
      "outputs": []
    },
    {
      "cell_type": "code",
      "metadata": {
        "id": "o3U6CLKmf56A"
      },
      "source": [
        "from sklearn.svm import SVC\n",
        "model = SVC()\n",
        "model.fit(x_train,y_train)\n",
        "y_pred = model.predict(x_test)\n",
        "y_pred"
      ],
      "execution_count": null,
      "outputs": []
    },
    {
      "cell_type": "code",
      "metadata": {
        "id": "6Nhsd8kLf9-q"
      },
      "source": [
        "from sklearn.metrics import accuracy_score\n",
        "print(accuracy_score(y_pred,y_test))"
      ],
      "execution_count": null,
      "outputs": []
    },
    {
      "cell_type": "code",
      "metadata": {
        "id": "o73eW8MUgDZ-"
      },
      "source": [
        "#Creating the parameters for GridSearchCV\n",
        "params= {'C':[1,10,100,1000],\n",
        "         'gamma':[0.001,0.0001],\n",
        "         'kernel':['rbf','linear','poly']}"
      ],
      "execution_count": null,
      "outputs": []
    },
    {
      "cell_type": "code",
      "metadata": {
        "id": "N062s9X4gJi2"
      },
      "source": [
        "#Building the model using SVM algorithm with Hyperparamter tuning (using GridSearchCV)\n",
        "from sklearn.model_selection import GridSearchCV\n",
        "from sklearn.svm import SVC\n",
        "grid = GridSearchCV(SVC(),params)\n",
        "grid.fit(x_train,y_train)"
      ],
      "execution_count": null,
      "outputs": []
    },
    {
      "cell_type": "code",
      "metadata": {
        "id": "GR0VljKCgQ_e"
      },
      "source": [
        "y_pred= grid.predict(x_test)\n",
        "y_pred"
      ],
      "execution_count": null,
      "outputs": []
    },
    {
      "cell_type": "code",
      "metadata": {
        "id": "Flyo28WLgVWB"
      },
      "source": [
        "#Checking the accuracy,precision,recall and confusion matrix of the model\n",
        "from sklearn.metrics import accuracy_score,classification_report,confusion_matrix\n",
        "print(f\"Accuracy_Score:{accuracy_score(y_pred,y_test)}\")\n",
        "print(f\"Classification_Report:{classification_report(y_pred,y_test)}\")\n",
        "print(f\"Confusion_Matrix:{confusion_matrix(y_pred,y_test)}\")"
      ],
      "execution_count": null,
      "outputs": []
    },
    {
      "cell_type": "code",
      "metadata": {
        "id": "sRfwEQP7gbhk"
      },
      "source": [
        "#Predicting the new value\n",
        "lis_data=[]\n",
        "Image_pred=str(input(\"Enter the URL of the image\"))\n",
        "im_read=imread(Image_pred)\n",
        "im_resize=resize(im_read,(200,200,3))\n",
        "lis_data.append(im_resize.flatten())\n",
        "lis_data=np.array(lis_data)\n",
        "# predicting the image\n",
        "y_predict=model.predict(lis_data)\n",
        "#y_predict=categories[y_predict[0]]\n",
        "print(f\"Predicted output for the New image is :{y_predict}\")"
      ],
      "execution_count": null,
      "outputs": []
    }
  ]
}